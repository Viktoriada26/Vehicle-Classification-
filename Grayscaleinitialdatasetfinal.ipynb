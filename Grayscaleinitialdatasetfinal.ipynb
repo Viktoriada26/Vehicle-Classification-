{
 "cells": [
  {
   "cell_type": "code",
   "execution_count": 1,
   "id": "67f8cb6a-3d54-4eef-908a-5c4094b71a62",
   "metadata": {},
   "outputs": [],
   "source": [
    "import torch\n",
    "import torch.nn as nn\n",
    "import torch.optim as optim\n",
    "from torch.utils.data import Dataset, DataLoader\n",
    "from torchvision import transforms\n",
    "from PIL import Image\n",
    "from sklearn.metrics import accuracy_score, precision_score, recall_score, f1_score\n",
    "import tqdm\n",
    "import os"
   ]
  },
  {
   "cell_type": "code",
   "execution_count": 2,
   "id": "0fdae7be-3860-45b5-a6f6-6fdd0848e777",
   "metadata": {},
   "outputs": [],
   "source": [
    "os.environ['CUDA_VISIBLE_DEVICES'] = 'MIG-4c6deb33-4c3f-5990-89bf-891bd00dac17'"
   ]
  },
  {
   "cell_type": "code",
   "execution_count": 3,
   "id": "a636dba0-b6b5-4025-a37c-d170ce46c142",
   "metadata": {},
   "outputs": [],
   "source": [
    "training_file = \"training_data.txt\"\n",
    "validation_file = \"validation_data.txt\"\n",
    "test_file = \"testing_data.txt\""
   ]
  },
  {
   "cell_type": "code",
   "execution_count": null,
   "id": "8cab0ed3-804e-41bf-9d91-b2eb7df9079c",
   "metadata": {},
   "outputs": [],
   "source": [
    "def extract_unique_labels(data_file):\n",
    "    \"\"\"extracts unique labels from the dataset\n",
    "\n",
    "    Args:\n",
    "        data_file (str): File path which contains the images. Each line is the image's path.\n",
    "\n",
    "    Returns:\n",
    "        list: A list which is sorted with the unique labels found in the dataset.\n",
    "    \"\"\"\n",
    "    unique_labels = []\n",
    "    with open(data_file, 'r') as f:\n",
    "        for line in f:\n",
    "            img_path = line.strip()\n",
    "            label = img_path.split('/')[-2]  \n",
    "            \n",
    "            if label not in unique_labels:\n",
    "                unique_labels.append(label)\n",
    "                \n",
    "    return sorted(unique_labels) "
   ]
  },
  {
   "cell_type": "code",
   "execution_count": 5,
   "id": "cc9da294-540a-4dfb-9788-c9bc09e30a3d",
   "metadata": {},
   "outputs": [],
   "source": [
    "unique_labels = extract_unique_labels(training_file)\n",
    "label_to_index = {label: idx for idx, label in enumerate(unique_labels)}\n",
    "num_classes = len(unique_labels)\n"
   ]
  },
  {
   "cell_type": "code",
   "execution_count": 6,
   "id": "2bad5a0d-2fd8-4add-9a21-1fb863d8f82d",
   "metadata": {},
   "outputs": [],
   "source": [
    "transform = transforms.Compose([\n",
    "    transforms.Resize((64, 64)),  \n",
    "    transforms.ToTensor(),\n",
    "    transforms.Normalize(mean=(0.5,), std=(0.5,)) \n",
    "])"
   ]
  },
  {
   "cell_type": "code",
   "execution_count": null,
   "id": "f324a319-c993-4257-9581-2ea70a465db9",
   "metadata": {},
   "outputs": [],
   "source": [
    "class CustomTransportDataset(Dataset):\n",
    "    \"\"\"\n",
    "    \n",
    "\n",
    "    Args:\n",
    "        Dataset (str): Loads the images and their labels. \n",
    "    \"\"\"\n",
    "    def __init__(self, data_file, label_to_index, transform=None):\n",
    "        \"\"\"Initializer of the class with the data files, labels and transform choice \n",
    "\n",
    "        Args:\n",
    "            data_file (str): image's path \n",
    "            label_to_index (dict): Dictionary with the mapping labels and indices.\n",
    "            transform (callable, optional): Optional transformations to each image. \n",
    "        \"\"\"\n",
    "        self.file_paths = []\n",
    "        self.labels = []\n",
    "        self.transform = transform\n",
    "        self.label_to_index = label_to_index\n",
    "\n",
    "        valid_extensions = ('.png') \n",
    "        with open(data_file, 'r') as f:\n",
    "            for line in f:\n",
    "                img_path = line.strip()\n",
    "                if img_path.lower().endswith(valid_extensions): \n",
    "                    self.file_paths.append(img_path)\n",
    "                    label = img_path.split('/')[-2]  \n",
    "                    if label in self.label_to_index:\n",
    "                        self.labels.append(self.label_to_index[label])\n",
    "                    else:\n",
    "                        print(f\"Label {label} not found in label_to_index mapping.\")\n",
    "\n",
    "    def __len__(self):\n",
    "        \"\"\"Total number of image paths\n",
    "\n",
    "        Returns:\n",
    "            int: Number of images in the dataset\n",
    "        \"\"\"\n",
    "        return len(self.file_paths)\n",
    "\n",
    "    def __getitem__(self, idx):\n",
    "        \"\"\"Gets the image from the index, applies any available transformations\n",
    "\n",
    "        Args:\n",
    "            idx (int): Index of the image\n",
    "\n",
    "        Returns:\n",
    "            tuple: index of the image with the label\n",
    "        \"\"\"\n",
    "        img_path = self.file_paths[idx]\n",
    "        label = self.labels[idx]\n",
    "        img = Image.open(img_path).convert('L')\n",
    "        \n",
    "        if self.transform:\n",
    "            img = self.transform(img)\n",
    "        else:\n",
    "            img = transforms.ToTensor()(img)\n",
    "\n",
    "        return img, label\n"
   ]
  },
  {
   "cell_type": "code",
   "execution_count": null,
   "id": "f872a98c-c4f2-417e-8433-3f8dca11a1a4",
   "metadata": {},
   "outputs": [],
   "source": [
    "class TransportClass(nn.Module):\n",
    "    \"\"\"A CNN for vehicle image classification, consists of 4 convolutional layers\n",
    "        each one followed by a MaxPool layer. \n",
    "    Args:\n",
    "        num_classes(int): The number of unique classes which defines the size of the last output layer\n",
    "    \"\"\"\n",
    "    def __init__(self, num_classes):\n",
    "        \"\"\"Initializer of the TransportClass with the number of output classes\n",
    "\n",
    "        Args:\n",
    "            num_classes (int): The number of unique classes which defines the size of the last output layer\n",
    "        \"\"\"\n",
    "        super(TransportClass, self).__init__()\n",
    "\n",
    "        self.conv_layers = nn.Sequential(\n",
    "            nn.Conv2d(1, 64, kernel_size=3, stride=1, padding=1),  \n",
    "            nn.BatchNorm2d(64),\n",
    "            nn.ReLU(),\n",
    "            nn.MaxPool2d(kernel_size=2, stride=2),\n",
    "            nn.Conv2d(64, 128, kernel_size=3, stride=1, padding=1),\n",
    "            nn.BatchNorm2d(128),\n",
    "            nn.ReLU(),\n",
    "            nn.MaxPool2d(kernel_size=2, stride=2),\n",
    "            nn.Conv2d(128, 256, kernel_size=3, stride=1, padding=1),  \n",
    "            nn.BatchNorm2d(256),\n",
    "            nn.ReLU(),\n",
    "            nn.MaxPool2d(kernel_size=2, stride=2),\n",
    "            nn.Conv2d(256, 512, kernel_size=3, stride=1, padding=1), \n",
    "            nn.BatchNorm2d(512),\n",
    "            nn.ReLU(),\n",
    "            nn.MaxPool2d(kernel_size=2, stride=2)\n",
    "        )\n",
    "\n",
    "        self.fc_layers = nn.Sequential(\n",
    "            nn.Linear(512 * 4 * 4, 1024),  \n",
    "            nn.ReLU(),\n",
    "            nn.Dropout(p=0.5),\n",
    "            nn.Linear(1024, num_classes),\n",
    "            nn.LogSoftmax(dim=1)\n",
    "        )\n",
    "\n",
    "    def forward(self, x):\n",
    "        \"\"\"Forward pass of the CNN model \n",
    "\n",
    "        Args:\n",
    "            x (torch.Tensor): Input tensor \n",
    "\n",
    "        Returns:\n",
    "            torch.Tensor: Output tensor\n",
    "        \"\"\"\n",
    "        x = self.conv_layers(x)\n",
    "        x = x.view(x.size(0), -1)  \n",
    "        x = self.fc_layers(x)\n",
    "        return x"
   ]
  },
  {
   "cell_type": "code",
   "execution_count": null,
   "id": "06665807-0f1b-493a-a543-67a0703351c0",
   "metadata": {},
   "outputs": [],
   "source": [
    "def train_model(train_loader, model, criterion, optimizer, num_epochs=5):\n",
    "    \"\"\"Training of the CNN model using the already given model, loss function optimizer and a number of epochs\n",
    "\n",
    "    Args:\n",
    "        train_loader (Dataloader): loads batches of input images and labels\n",
    "        model (nn.Module): The neural network model which is trained \n",
    "        criterion (callable): the loss function\n",
    "        optimizer (Optimizer): Adjusts model weights on gradients\n",
    "        num_epochs (int): Number of epochs that the model will be trained on\n",
    "\n",
    "    Returns:\n",
    "        nn.Module: The trained model \n",
    "    \"\"\"\n",
    "    device = torch.device(\"cuda:0\")  \n",
    "    model.to(device)\n",
    "\n",
    "    for epoch in range(num_epochs):\n",
    "        print(f\"Epoch {epoch + 1}/{num_epochs}\")\n",
    "        running_loss = 0\n",
    "        for inputs, labels in tqdm.tqdm(train_loader):\n",
    "            inputs, labels = inputs.to(device), labels.to(device)\n",
    "\n",
    "            optimizer.zero_grad()\n",
    "            outputs = model(inputs)\n",
    "            loss = criterion(outputs, labels)\n",
    "            loss.backward()\n",
    "            optimizer.step()\n",
    "\n",
    "            running_loss += loss.item()\n",
    "\n",
    "        print(f\"Training Loss after epoch {epoch + 1}: {running_loss / len(train_loader)}\")\n",
    "\n",
    "    return model"
   ]
  },
  {
   "cell_type": "code",
   "execution_count": 10,
   "id": "ab374503-849e-409d-9561-156235efb92d",
   "metadata": {},
   "outputs": [],
   "source": [
    "model = TransportClass(num_classes=num_classes)\n",
    "optimizer = optim.Adam(model.parameters(), lr=0.001)\n",
    "criterion = nn.NLLLoss()"
   ]
  },
  {
   "cell_type": "code",
   "execution_count": null,
   "id": "8af86dcb-7ef0-4dc9-8b86-63e7feb4158b",
   "metadata": {},
   "outputs": [],
   "source": [
    "def evaluate_model(loader, model):\n",
    "    \"\"\"Evaluates the performance of the trained model after a specified number of epochs.\n",
    "    Using sklearn evaluation metrics: accuracy, precision, recall, F1 score.\n",
    "\n",
    "    Args:\n",
    "        loader (Dataloader): Batches of test or validation data \n",
    "        model (nn.Module): The already trained model in order to get the evaluation metrics.\n",
    "\n",
    "    Returns:\n",
    "        tuple: Contains the accuracy, the precision, the recall and the f1 score\n",
    "    \"\"\"\n",
    "    model.eval()  \n",
    "    device = torch.device(\"cuda:0\")\n",
    "    model.to(device)\n",
    "\n",
    "    predicted_labels = []\n",
    "    true_labels = []\n",
    "\n",
    "    with torch.no_grad(): \n",
    "        for inputs, labels in tqdm.tqdm(loader):\n",
    "            inputs, labels = inputs.to(device), labels.to(device)\n",
    "\n",
    "            outputs = model(inputs)\n",
    "            predlab = outputs.argmax(dim=1).cpu().numpy()  \n",
    "            predicted_labels.extend(predlab)\n",
    "            true_labels.extend(labels.cpu().numpy())\n",
    "\n",
    "    accuracy = accuracy_score(true_labels, predicted_labels)\n",
    "    precision = precision_score(true_labels, predicted_labels, average='macro')\n",
    "    recall = recall_score(true_labels, predicted_labels, average='macro')\n",
    "    f1 = f1_score(true_labels, predicted_labels, average='macro')\n",
    "\n",
    "    return accuracy, precision, recall, f1"
   ]
  },
  {
   "cell_type": "code",
   "execution_count": 12,
   "id": "1fcd86b5-e351-4ead-a825-469b73377b9a",
   "metadata": {},
   "outputs": [],
   "source": [
    "train_dataset = CustomTransportDataset(training_file, label_to_index, transform=transform)\n",
    "val_dataset = CustomTransportDataset(validation_file, label_to_index, transform=transform)\n",
    "test_dataset = CustomTransportDataset(test_file, label_to_index, transform=transform)\n",
    "\n",
    "train_loader = DataLoader(train_dataset, batch_size=32, shuffle=True)\n",
    "val_loader = DataLoader(val_dataset, batch_size=32, shuffle=False)\n",
    "test_loader = DataLoader(test_dataset, batch_size=32, shuffle=False)\n"
   ]
  },
  {
   "cell_type": "code",
   "execution_count": 13,
   "id": "ef46c9df-3151-419e-910c-7fe92a958d17",
   "metadata": {},
   "outputs": [
    {
     "name": "stdout",
     "output_type": "stream",
     "text": [
      "Training dataset size: 5418\n",
      "Number of unique labels: 5\n",
      "Label to index mapping: {'bus': 0, 'car': 1, 'motorcycle': 2, 'train': 3, 'truck': 4}\n",
      "Epoch 1/50\n"
     ]
    },
    {
     "name": "stderr",
     "output_type": "stream",
     "text": [
      "100%|█████████████████████████████████████████████████████████████████████████████████| 170/170 [00:11<00:00, 15.15it/s]\n"
     ]
    },
    {
     "name": "stdout",
     "output_type": "stream",
     "text": [
      "Training Loss after epoch 1: 1.8588191319914424\n",
      "Epoch 2/50\n"
     ]
    },
    {
     "name": "stderr",
     "output_type": "stream",
     "text": [
      "100%|█████████████████████████████████████████████████████████████████████████████████| 170/170 [00:11<00:00, 15.00it/s]\n"
     ]
    },
    {
     "name": "stdout",
     "output_type": "stream",
     "text": [
      "Training Loss after epoch 2: 1.2236159247510574\n",
      "Epoch 3/50\n"
     ]
    },
    {
     "name": "stderr",
     "output_type": "stream",
     "text": [
      "100%|█████████████████████████████████████████████████████████████████████████████████| 170/170 [00:10<00:00, 16.05it/s]\n"
     ]
    },
    {
     "name": "stdout",
     "output_type": "stream",
     "text": [
      "Training Loss after epoch 3: 1.074106331432567\n",
      "Epoch 4/50\n"
     ]
    },
    {
     "name": "stderr",
     "output_type": "stream",
     "text": [
      "100%|█████████████████████████████████████████████████████████████████████████████████| 170/170 [00:11<00:00, 14.80it/s]\n"
     ]
    },
    {
     "name": "stdout",
     "output_type": "stream",
     "text": [
      "Training Loss after epoch 4: 0.9501107899581684\n",
      "Epoch 5/50\n"
     ]
    },
    {
     "name": "stderr",
     "output_type": "stream",
     "text": [
      "100%|█████████████████████████████████████████████████████████████████████████████████| 170/170 [00:11<00:00, 15.16it/s]\n"
     ]
    },
    {
     "name": "stdout",
     "output_type": "stream",
     "text": [
      "Training Loss after epoch 5: 0.8744009596460006\n",
      "Epoch 6/50\n"
     ]
    },
    {
     "name": "stderr",
     "output_type": "stream",
     "text": [
      "100%|█████████████████████████████████████████████████████████████████████████████████| 170/170 [00:11<00:00, 14.50it/s]\n"
     ]
    },
    {
     "name": "stdout",
     "output_type": "stream",
     "text": [
      "Training Loss after epoch 6: 0.7886974758961621\n",
      "Epoch 7/50\n"
     ]
    },
    {
     "name": "stderr",
     "output_type": "stream",
     "text": [
      "100%|█████████████████████████████████████████████████████████████████████████████████| 170/170 [00:10<00:00, 15.66it/s]\n"
     ]
    },
    {
     "name": "stdout",
     "output_type": "stream",
     "text": [
      "Training Loss after epoch 7: 0.7525400131940841\n",
      "Epoch 8/50\n"
     ]
    },
    {
     "name": "stderr",
     "output_type": "stream",
     "text": [
      "100%|█████████████████████████████████████████████████████████████████████████████████| 170/170 [00:10<00:00, 16.49it/s]\n"
     ]
    },
    {
     "name": "stdout",
     "output_type": "stream",
     "text": [
      "Training Loss after epoch 8: 0.7001018601305344\n",
      "Epoch 9/50\n"
     ]
    },
    {
     "name": "stderr",
     "output_type": "stream",
     "text": [
      "100%|█████████████████████████████████████████████████████████████████████████████████| 170/170 [00:11<00:00, 14.90it/s]\n"
     ]
    },
    {
     "name": "stdout",
     "output_type": "stream",
     "text": [
      "Training Loss after epoch 9: 0.6457884332712959\n",
      "Epoch 10/50\n"
     ]
    },
    {
     "name": "stderr",
     "output_type": "stream",
     "text": [
      "100%|█████████████████████████████████████████████████████████████████████████████████| 170/170 [00:11<00:00, 15.12it/s]\n"
     ]
    },
    {
     "name": "stdout",
     "output_type": "stream",
     "text": [
      "Training Loss after epoch 10: 0.6022925143732744\n",
      "Epoch 11/50\n"
     ]
    },
    {
     "name": "stderr",
     "output_type": "stream",
     "text": [
      "100%|█████████████████████████████████████████████████████████████████████████████████| 170/170 [00:10<00:00, 16.47it/s]\n"
     ]
    },
    {
     "name": "stdout",
     "output_type": "stream",
     "text": [
      "Training Loss after epoch 11: 0.5710792821996352\n",
      "Epoch 12/50\n"
     ]
    },
    {
     "name": "stderr",
     "output_type": "stream",
     "text": [
      "100%|█████████████████████████████████████████████████████████████████████████████████| 170/170 [00:10<00:00, 16.58it/s]\n"
     ]
    },
    {
     "name": "stdout",
     "output_type": "stream",
     "text": [
      "Training Loss after epoch 12: 0.5377340497339473\n",
      "Epoch 13/50\n"
     ]
    },
    {
     "name": "stderr",
     "output_type": "stream",
     "text": [
      "100%|█████████████████████████████████████████████████████████████████████████████████| 170/170 [00:10<00:00, 16.71it/s]\n"
     ]
    },
    {
     "name": "stdout",
     "output_type": "stream",
     "text": [
      "Training Loss after epoch 13: 0.47002030952888374\n",
      "Epoch 14/50\n"
     ]
    },
    {
     "name": "stderr",
     "output_type": "stream",
     "text": [
      "100%|█████████████████████████████████████████████████████████████████████████████████| 170/170 [00:10<00:00, 16.81it/s]\n"
     ]
    },
    {
     "name": "stdout",
     "output_type": "stream",
     "text": [
      "Training Loss after epoch 14: 0.452971254464458\n",
      "Epoch 15/50\n"
     ]
    },
    {
     "name": "stderr",
     "output_type": "stream",
     "text": [
      "100%|█████████████████████████████████████████████████████████████████████████████████| 170/170 [00:10<00:00, 16.74it/s]\n"
     ]
    },
    {
     "name": "stdout",
     "output_type": "stream",
     "text": [
      "Training Loss after epoch 15: 0.3893523973138893\n",
      "Epoch 16/50\n"
     ]
    },
    {
     "name": "stderr",
     "output_type": "stream",
     "text": [
      "100%|█████████████████████████████████████████████████████████████████████████████████| 170/170 [00:10<00:00, 16.74it/s]\n"
     ]
    },
    {
     "name": "stdout",
     "output_type": "stream",
     "text": [
      "Training Loss after epoch 16: 0.37851340341217377\n",
      "Epoch 17/50\n"
     ]
    },
    {
     "name": "stderr",
     "output_type": "stream",
     "text": [
      "100%|█████████████████████████████████████████████████████████████████████████████████| 170/170 [00:10<00:00, 16.57it/s]\n"
     ]
    },
    {
     "name": "stdout",
     "output_type": "stream",
     "text": [
      "Training Loss after epoch 17: 0.3530213079908315\n",
      "Epoch 18/50\n"
     ]
    },
    {
     "name": "stderr",
     "output_type": "stream",
     "text": [
      "100%|█████████████████████████████████████████████████████████████████████████████████| 170/170 [00:10<00:00, 16.60it/s]\n"
     ]
    },
    {
     "name": "stdout",
     "output_type": "stream",
     "text": [
      "Training Loss after epoch 18: 0.33164496875422844\n",
      "Epoch 19/50\n"
     ]
    },
    {
     "name": "stderr",
     "output_type": "stream",
     "text": [
      "100%|█████████████████████████████████████████████████████████████████████████████████| 170/170 [00:10<00:00, 15.91it/s]\n"
     ]
    },
    {
     "name": "stdout",
     "output_type": "stream",
     "text": [
      "Training Loss after epoch 19: 0.3277145783033441\n",
      "Epoch 20/50\n"
     ]
    },
    {
     "name": "stderr",
     "output_type": "stream",
     "text": [
      "100%|█████████████████████████████████████████████████████████████████████████████████| 170/170 [00:12<00:00, 14.15it/s]\n"
     ]
    },
    {
     "name": "stdout",
     "output_type": "stream",
     "text": [
      "Training Loss after epoch 20: 0.26610063093111797\n",
      "Epoch 21/50\n"
     ]
    },
    {
     "name": "stderr",
     "output_type": "stream",
     "text": [
      "100%|█████████████████████████████████████████████████████████████████████████████████| 170/170 [00:12<00:00, 13.89it/s]\n"
     ]
    },
    {
     "name": "stdout",
     "output_type": "stream",
     "text": [
      "Training Loss after epoch 21: 0.22203124426305293\n",
      "Epoch 22/50\n"
     ]
    },
    {
     "name": "stderr",
     "output_type": "stream",
     "text": [
      "100%|█████████████████████████████████████████████████████████████████████████████████| 170/170 [00:11<00:00, 14.34it/s]\n"
     ]
    },
    {
     "name": "stdout",
     "output_type": "stream",
     "text": [
      "Training Loss after epoch 22: 0.19006007780485293\n",
      "Epoch 23/50\n"
     ]
    },
    {
     "name": "stderr",
     "output_type": "stream",
     "text": [
      "100%|█████████████████████████████████████████████████████████████████████████████████| 170/170 [00:11<00:00, 14.34it/s]\n"
     ]
    },
    {
     "name": "stdout",
     "output_type": "stream",
     "text": [
      "Training Loss after epoch 23: 0.22252170171807795\n",
      "Epoch 24/50\n"
     ]
    },
    {
     "name": "stderr",
     "output_type": "stream",
     "text": [
      "100%|█████████████████████████████████████████████████████████████████████████████████| 170/170 [00:11<00:00, 15.02it/s]\n"
     ]
    },
    {
     "name": "stdout",
     "output_type": "stream",
     "text": [
      "Training Loss after epoch 24: 0.2072927879936555\n",
      "Epoch 25/50\n"
     ]
    },
    {
     "name": "stderr",
     "output_type": "stream",
     "text": [
      "100%|█████████████████████████████████████████████████████████████████████████████████| 170/170 [00:11<00:00, 15.28it/s]\n"
     ]
    },
    {
     "name": "stdout",
     "output_type": "stream",
     "text": [
      "Training Loss after epoch 25: 0.16069188102641527\n",
      "Epoch 26/50\n"
     ]
    },
    {
     "name": "stderr",
     "output_type": "stream",
     "text": [
      "100%|█████████████████████████████████████████████████████████████████████████████████| 170/170 [00:10<00:00, 16.73it/s]\n"
     ]
    },
    {
     "name": "stdout",
     "output_type": "stream",
     "text": [
      "Training Loss after epoch 26: 0.16888627966811112\n",
      "Epoch 27/50\n"
     ]
    },
    {
     "name": "stderr",
     "output_type": "stream",
     "text": [
      "100%|█████████████████████████████████████████████████████████████████████████████████| 170/170 [00:10<00:00, 16.49it/s]\n"
     ]
    },
    {
     "name": "stdout",
     "output_type": "stream",
     "text": [
      "Training Loss after epoch 27: 0.13356544285300462\n",
      "Epoch 28/50\n"
     ]
    },
    {
     "name": "stderr",
     "output_type": "stream",
     "text": [
      "100%|█████████████████████████████████████████████████████████████████████████████████| 170/170 [00:10<00:00, 16.61it/s]\n"
     ]
    },
    {
     "name": "stdout",
     "output_type": "stream",
     "text": [
      "Training Loss after epoch 28: 0.1299924335538355\n",
      "Epoch 29/50\n"
     ]
    },
    {
     "name": "stderr",
     "output_type": "stream",
     "text": [
      "100%|█████████████████████████████████████████████████████████████████████████████████| 170/170 [00:10<00:00, 16.40it/s]\n"
     ]
    },
    {
     "name": "stdout",
     "output_type": "stream",
     "text": [
      "Training Loss after epoch 29: 0.11938181834240609\n",
      "Epoch 30/50\n"
     ]
    },
    {
     "name": "stderr",
     "output_type": "stream",
     "text": [
      "100%|█████████████████████████████████████████████████████████████████████████████████| 170/170 [00:10<00:00, 16.09it/s]\n"
     ]
    },
    {
     "name": "stdout",
     "output_type": "stream",
     "text": [
      "Training Loss after epoch 30: 0.12087287522907204\n",
      "Epoch 31/50\n"
     ]
    },
    {
     "name": "stderr",
     "output_type": "stream",
     "text": [
      "100%|█████████████████████████████████████████████████████████████████████████████████| 170/170 [00:10<00:00, 16.29it/s]\n"
     ]
    },
    {
     "name": "stdout",
     "output_type": "stream",
     "text": [
      "Training Loss after epoch 31: 0.09705573588007074\n",
      "Epoch 32/50\n"
     ]
    },
    {
     "name": "stderr",
     "output_type": "stream",
     "text": [
      "100%|█████████████████████████████████████████████████████████████████████████████████| 170/170 [00:10<00:00, 16.06it/s]\n"
     ]
    },
    {
     "name": "stdout",
     "output_type": "stream",
     "text": [
      "Training Loss after epoch 32: 0.08241827646099195\n",
      "Epoch 33/50\n"
     ]
    },
    {
     "name": "stderr",
     "output_type": "stream",
     "text": [
      "100%|█████████████████████████████████████████████████████████████████████████████████| 170/170 [00:10<00:00, 16.42it/s]\n"
     ]
    },
    {
     "name": "stdout",
     "output_type": "stream",
     "text": [
      "Training Loss after epoch 33: 0.11298409399905188\n",
      "Epoch 34/50\n"
     ]
    },
    {
     "name": "stderr",
     "output_type": "stream",
     "text": [
      "100%|█████████████████████████████████████████████████████████████████████████████████| 170/170 [00:10<00:00, 15.90it/s]\n"
     ]
    },
    {
     "name": "stdout",
     "output_type": "stream",
     "text": [
      "Training Loss after epoch 34: 0.09070312657448298\n",
      "Epoch 35/50\n"
     ]
    },
    {
     "name": "stderr",
     "output_type": "stream",
     "text": [
      "100%|█████████████████████████████████████████████████████████████████████████████████| 170/170 [00:10<00:00, 16.39it/s]\n"
     ]
    },
    {
     "name": "stdout",
     "output_type": "stream",
     "text": [
      "Training Loss after epoch 35: 0.08311769543489551\n",
      "Epoch 36/50\n"
     ]
    },
    {
     "name": "stderr",
     "output_type": "stream",
     "text": [
      "100%|█████████████████████████████████████████████████████████████████████████████████| 170/170 [00:10<00:00, 16.35it/s]\n"
     ]
    },
    {
     "name": "stdout",
     "output_type": "stream",
     "text": [
      "Training Loss after epoch 36: 0.06996778173950802\n",
      "Epoch 37/50\n"
     ]
    },
    {
     "name": "stderr",
     "output_type": "stream",
     "text": [
      "100%|█████████████████████████████████████████████████████████████████████████████████| 170/170 [00:10<00:00, 16.37it/s]\n"
     ]
    },
    {
     "name": "stdout",
     "output_type": "stream",
     "text": [
      "Training Loss after epoch 37: 0.08508165846510297\n",
      "Epoch 38/50\n"
     ]
    },
    {
     "name": "stderr",
     "output_type": "stream",
     "text": [
      "100%|█████████████████████████████████████████████████████████████████████████████████| 170/170 [00:10<00:00, 16.28it/s]\n"
     ]
    },
    {
     "name": "stdout",
     "output_type": "stream",
     "text": [
      "Training Loss after epoch 38: 0.07244760563617628\n",
      "Epoch 39/50\n"
     ]
    },
    {
     "name": "stderr",
     "output_type": "stream",
     "text": [
      "100%|█████████████████████████████████████████████████████████████████████████████████| 170/170 [00:10<00:00, 16.31it/s]\n"
     ]
    },
    {
     "name": "stdout",
     "output_type": "stream",
     "text": [
      "Training Loss after epoch 39: 0.08193594028022798\n",
      "Epoch 40/50\n"
     ]
    },
    {
     "name": "stderr",
     "output_type": "stream",
     "text": [
      "100%|█████████████████████████████████████████████████████████████████████████████████| 170/170 [00:10<00:00, 16.39it/s]\n"
     ]
    },
    {
     "name": "stdout",
     "output_type": "stream",
     "text": [
      "Training Loss after epoch 40: 0.08403209088445532\n",
      "Epoch 41/50\n"
     ]
    },
    {
     "name": "stderr",
     "output_type": "stream",
     "text": [
      "100%|█████████████████████████████████████████████████████████████████████████████████| 170/170 [00:10<00:00, 16.14it/s]\n"
     ]
    },
    {
     "name": "stdout",
     "output_type": "stream",
     "text": [
      "Training Loss after epoch 41: 0.05577497784407195\n",
      "Epoch 42/50\n"
     ]
    },
    {
     "name": "stderr",
     "output_type": "stream",
     "text": [
      "100%|█████████████████████████████████████████████████████████████████████████████████| 170/170 [00:10<00:00, 16.27it/s]\n"
     ]
    },
    {
     "name": "stdout",
     "output_type": "stream",
     "text": [
      "Training Loss after epoch 42: 0.07826817603131263\n",
      "Epoch 43/50\n"
     ]
    },
    {
     "name": "stderr",
     "output_type": "stream",
     "text": [
      "100%|█████████████████████████████████████████████████████████████████████████████████| 170/170 [00:10<00:00, 16.13it/s]\n"
     ]
    },
    {
     "name": "stdout",
     "output_type": "stream",
     "text": [
      "Training Loss after epoch 43: 0.07523880894381471\n",
      "Epoch 44/50\n"
     ]
    },
    {
     "name": "stderr",
     "output_type": "stream",
     "text": [
      "100%|█████████████████████████████████████████████████████████████████████████████████| 170/170 [00:10<00:00, 16.14it/s]\n"
     ]
    },
    {
     "name": "stdout",
     "output_type": "stream",
     "text": [
      "Training Loss after epoch 44: 0.09959425622090588\n",
      "Epoch 45/50\n"
     ]
    },
    {
     "name": "stderr",
     "output_type": "stream",
     "text": [
      "100%|█████████████████████████████████████████████████████████████████████████████████| 170/170 [00:10<00:00, 15.82it/s]\n"
     ]
    },
    {
     "name": "stdout",
     "output_type": "stream",
     "text": [
      "Training Loss after epoch 45: 0.05974801375041887\n",
      "Epoch 46/50\n"
     ]
    },
    {
     "name": "stderr",
     "output_type": "stream",
     "text": [
      "100%|█████████████████████████████████████████████████████████████████████████████████| 170/170 [00:10<00:00, 16.07it/s]\n"
     ]
    },
    {
     "name": "stdout",
     "output_type": "stream",
     "text": [
      "Training Loss after epoch 46: 0.041211133272907534\n",
      "Epoch 47/50\n"
     ]
    },
    {
     "name": "stderr",
     "output_type": "stream",
     "text": [
      "100%|█████████████████████████████████████████████████████████████████████████████████| 170/170 [00:10<00:00, 16.17it/s]\n"
     ]
    },
    {
     "name": "stdout",
     "output_type": "stream",
     "text": [
      "Training Loss after epoch 47: 0.028718915382406146\n",
      "Epoch 48/50\n"
     ]
    },
    {
     "name": "stderr",
     "output_type": "stream",
     "text": [
      "100%|█████████████████████████████████████████████████████████████████████████████████| 170/170 [00:10<00:00, 16.23it/s]\n"
     ]
    },
    {
     "name": "stdout",
     "output_type": "stream",
     "text": [
      "Training Loss after epoch 48: 0.045639993519815854\n",
      "Epoch 49/50\n"
     ]
    },
    {
     "name": "stderr",
     "output_type": "stream",
     "text": [
      "100%|█████████████████████████████████████████████████████████████████████████████████| 170/170 [00:10<00:00, 16.22it/s]\n"
     ]
    },
    {
     "name": "stdout",
     "output_type": "stream",
     "text": [
      "Training Loss after epoch 49: 0.05744667607436628\n",
      "Epoch 50/50\n"
     ]
    },
    {
     "name": "stderr",
     "output_type": "stream",
     "text": [
      "100%|█████████████████████████████████████████████████████████████████████████████████| 170/170 [00:11<00:00, 14.45it/s]"
     ]
    },
    {
     "name": "stdout",
     "output_type": "stream",
     "text": [
      "Training Loss after epoch 50: 0.05144291475007776\n"
     ]
    },
    {
     "name": "stderr",
     "output_type": "stream",
     "text": [
      "\n"
     ]
    }
   ],
   "source": [
    "print(f\"Training dataset size: {len(train_dataset)}\")\n",
    "print(f\"Number of unique labels: {num_classes}\")\n",
    "print(f\"Label to index mapping: {label_to_index}\")\n",
    "\n",
    "\n",
    "trained_model = train_model(train_loader, model, criterion, optimizer, num_epochs=50)"
   ]
  },
  {
   "cell_type": "code",
   "execution_count": 15,
   "id": "94bc5bc4-3ab7-44e8-959f-29728f4a2398",
   "metadata": {},
   "outputs": [
    {
     "name": "stderr",
     "output_type": "stream",
     "text": [
      "100%|███████████████████████████████████████████████████████████████████████████████████| 23/23 [00:02<00:00,  8.06it/s]\n"
     ]
    },
    {
     "name": "stdout",
     "output_type": "stream",
     "text": [
      "Validation Accuracy: 0.7856135401974612\n",
      "Validation Precision: 0.7597700171065108\n",
      "Validation Recall: 0.7615801215700371\n",
      "Validation F1-Score: 0.7576726422149568\n"
     ]
    },
    {
     "name": "stderr",
     "output_type": "stream",
     "text": [
      "100%|███████████████████████████████████████████████████████████████████████████████████| 23/23 [00:01<00:00, 16.72it/s]"
     ]
    },
    {
     "name": "stdout",
     "output_type": "stream",
     "text": [
      "Test Accuracy: 0.7782485875706214\n",
      "Test Precision: 0.7664761165718305\n",
      "Test Recall: 0.7493661761563327\n",
      "Test F1-Score: 0.7498998588994008\n"
     ]
    },
    {
     "name": "stderr",
     "output_type": "stream",
     "text": [
      "\n"
     ]
    }
   ],
   "source": [
    "val_accuracy, val_precision, val_recall, val_f1 = evaluate_model(val_loader, trained_model)\n",
    "print(f\"Validation Accuracy: {val_accuracy}\")\n",
    "print(f\"Validation Precision: {val_precision}\")\n",
    "print(f\"Validation Recall: {val_recall}\")\n",
    "print(f\"Validation F1-Score: {val_f1}\")\n",
    "\n",
    "test_accuracy, test_precision, test_recall, test_f1 = evaluate_model(test_loader, trained_model)\n",
    "print(f\"Test Accuracy: {test_accuracy}\")\n",
    "print(f\"Test Precision: {test_precision}\")\n",
    "print(f\"Test Recall: {test_recall}\")\n",
    "print(f\"Test F1-Score: {test_f1}\")"
   ]
  },
  {
   "cell_type": "code",
   "execution_count": 16,
   "id": "ab3026f5-bb40-4589-8f34-610615a0859d",
   "metadata": {},
   "outputs": [
    {
     "name": "stdout",
     "output_type": "stream",
     "text": [
      "Model saved successfully.\n"
     ]
    }
   ],
   "source": [
    "torch.save(trained_model.state_dict(), \"Grayscaleinitialdatasetfinal.pth\")\n",
    "print(\"Model saved successfully.\")"
   ]
  },
  {
   "cell_type": "code",
   "execution_count": null,
   "id": "95b9c998-e6ac-4859-a4b9-024199c83b10",
   "metadata": {},
   "outputs": [],
   "source": []
  },
  {
   "cell_type": "code",
   "execution_count": null,
   "id": "3e331e8f-5eb1-4dea-a59e-31b9e41707ec",
   "metadata": {},
   "outputs": [],
   "source": []
  }
 ],
 "metadata": {
  "kernelspec": {
   "display_name": "Python 3 (ipykernel)",
   "language": "python",
   "name": "python3"
  },
  "language_info": {
   "codemirror_mode": {
    "name": "ipython",
    "version": 3
   },
   "file_extension": ".py",
   "mimetype": "text/x-python",
   "name": "python",
   "nbconvert_exporter": "python",
   "pygments_lexer": "ipython3",
   "version": "3.12.3"
  }
 },
 "nbformat": 4,
 "nbformat_minor": 5
}
